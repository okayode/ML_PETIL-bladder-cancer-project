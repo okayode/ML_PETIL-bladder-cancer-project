{
 "cells": [
  {
   "cell_type": "code",
   "execution_count": 1,
   "id": "bd5d5dae-fa82-442f-8a9f-ea8e7b376485",
   "metadata": {},
   "outputs": [],
   "source": [
    "import numpy as np\n",
    "import pandas as pd\n",
    "import matplotlib.pyplot as plt\n",
    "from sklearn.feature_selection import r_regression\n",
    "from sklearn.model_selection import train_test_split\n",
    "import seaborn as sns"
   ]
  },
  {
   "cell_type": "code",
   "execution_count": 2,
   "id": "143a2627-e100-412a-80c4-b86146273ba8",
   "metadata": {},
   "outputs": [],
   "source": [
    "# load utilities\n",
    "\n",
    "%run ./utility/utilities.py"
   ]
  },
  {
   "cell_type": "code",
   "execution_count": 3,
   "id": "8145b67f-f39a-4610-bdae-6b1f711386a5",
   "metadata": {},
   "outputs": [
    {
     "name": "stdout",
     "output_type": "stream",
     "text": [
      "Selected Jupyter core packages...\n",
      "IPython          : 8.12.2\n",
      "ipykernel        : 6.29.5\n",
      "ipywidgets       : 8.1.3\n",
      "jupyter_client   : 8.6.2\n",
      "jupyter_core     : 5.7.2\n",
      "jupyter_server   : 2.7.0\n",
      "jupyterlab       : 4.2.3\n",
      "nbclient         : 0.10.0\n",
      "nbconvert        : 7.16.4\n",
      "nbformat         : 5.10.4\n",
      "notebook         : 7.2.1\n",
      "qtconsole        : 5.5.2\n",
      "traitlets        : 5.14.3\n"
     ]
    }
   ],
   "source": [
    "!jupyter --version"
   ]
  },
  {
   "cell_type": "markdown",
   "id": "de68ab81-fe84-4bfe-8548-1076d7b41ff4",
   "metadata": {},
   "source": [
    "## loading de-identified data (16 features)"
   ]
  },
  {
   "cell_type": "code",
   "execution_count": 4,
   "id": "f94c8c2b-e312-43da-b2b0-6e13ebf37c89",
   "metadata": {},
   "outputs": [],
   "source": [
    "# (B001 - B131) \n",
    "\n",
    "pd.set_option('display.max_columns', None)\n",
    "pd.set_option('display.max_row', None)\n",
    "\n",
    "# load data\n",
    "data = pd.read_excel('data/BladderCancer_132P_TIL_prd1.xlsx')\n",
    "data = data.loc[0:130]\n",
    "\n",
    "Ndata = data[['ID','Surgeon','Age_at_Surgery','Race','Surgery','Smoker','BMI',\\\n",
    "              'NAC','cT','pT','cT_or_pT','pN','Bx_Histology','Histology',\\\n",
    "              'Sample_weight_g_tumor','Tumor_digest_count_primary_tumor','Number_of_fragments_plated_tumor',\\\n",
    "              'Overall_TIL_growth']].copy()\n",
    "\n",
    "Ndata = Ndata.replace(to_replace=\"Yes\",value=\"Yes TIL\")\n",
    "Ndata = Ndata.replace(to_replace=\"No\",value=\"No TIL\")\n",
    "\n",
    "Ndata = Ndata.replace(r'^\\s*$', np.nan, regex=True) # Replace Blank values with DataFrame.replace() methods.\n",
    "\n",
    "Extracted_col0 = Ndata.iloc[:,0:1]  # \"ID\"\n",
    "Extracted_col1 = Ndata['Surgeon'];                           Extracted_col2 = Ndata['Age_at_Surgery']\n",
    "Extracted_col3 = Ndata['Race'];                              Extracted_col4 = Ndata['Surgery']\n",
    "Extracted_col5 = Ndata['Smoker'];                            Extracted_col6 = Ndata['BMI']\n",
    "Extracted_col7 = Ndata['NAC'];                               Extracted_col8 = Ndata['cT']\n",
    "Extracted_col9 = Ndata['pT'];                                Extracted_col10 = Ndata['cT_or_pT']\n",
    "Extracted_col11 = Ndata['pN'];                               Extracted_col12 = Ndata['Bx_Histology']\n",
    "Extracted_col13 = Ndata['Histology'];                        Extracted_col14 = Ndata['Sample_weight_g_tumor']\n",
    "Extracted_col15 = Ndata['Tumor_digest_count_primary_tumor']; Extracted_col16 = Ndata['Number_of_fragments_plated_tumor']\n",
    "Extracted_col17 = Ndata['Overall_TIL_growth']\n",
    "\n",
    "ndata_sel = Extracted_col0\n",
    "ndata_sel = ndata_sel.join(Extracted_col1); ndata_sel = ndata_sel.join(Extracted_col2)\n",
    "ndata_sel = ndata_sel.join(Extracted_col3); ndata_sel = ndata_sel.join(Extracted_col4)\n",
    "ndata_sel = ndata_sel.join(Extracted_col5); ndata_sel = ndata_sel.join(Extracted_col6)\n",
    "ndata_sel = ndata_sel.join(Extracted_col7); ndata_sel = ndata_sel.join(Extracted_col8)\n",
    "ndata_sel = ndata_sel.join(Extracted_col9); ndata_sel = ndata_sel.join(Extracted_col10)\n",
    "ndata_sel = ndata_sel.join(Extracted_col11); ndata_sel = ndata_sel.join(Extracted_col12)\n",
    "ndata_sel = ndata_sel.join(Extracted_col13); ndata_sel = ndata_sel.join(Extracted_col14)\n",
    "ndata_sel = ndata_sel.join(Extracted_col15); ndata_sel = ndata_sel.join(Extracted_col16)\n",
    "ndata_sel = ndata_sel.join(Extracted_col17)\n",
    "\n",
    "ndata_sel = ndata_sel.rename(columns={'Overall_TIL_growth': 'OverallTILGrowth'})\n",
    "\n",
    "Cols = ['Surgeon','Age at Surgery','Race','Surgery','Smoker','BMI',\\\n",
    "        'NAC','cT','pT','cT or pT','pN','Bx Histology','Histology',\\\n",
    "        'Sample weight (g) tumor','Tumor digest count (primary tumor)','Number of fragments plated (tumor)',\\\n",
    "        'OverallTILGrowth']\n",
    "\n",
    "feats = ['Surgeon','Age at Surgery','Race','Surgery','Smoker','BMI',\\\n",
    "        'NAC','cT','pT','cT or pT','pN','Bx Histology','Histology',\\\n",
    "        'Sample weight (g) tumor','Tumor digest count (primary tumor)','Number of fragments plated (tumor)']\n",
    "\n",
    "feat_labels = feats"
   ]
  },
  {
   "cell_type": "code",
   "execution_count": 5,
   "id": "3ff2efb3-4493-4d00-b583-1152f6fbff8a",
   "metadata": {},
   "outputs": [
    {
     "name": "stdout",
     "output_type": "stream",
     "text": [
      "(131, 18)\n"
     ]
    }
   ],
   "source": [
    "# print(ndata_sel)\n",
    "print(ndata_sel.shape)"
   ]
  },
  {
   "cell_type": "code",
   "execution_count": 6,
   "id": "b75d8b08-9af8-48bf-b636-52c24d35744b",
   "metadata": {},
   "outputs": [
    {
     "name": "stdout",
     "output_type": "stream",
     "text": [
      "(60, 18)\n"
     ]
    }
   ],
   "source": [
    "# Filter all rows which has NaN \n",
    "\n",
    "ndata_sel.dropna(inplace=True) # drop rows with Nan, no entries\n",
    "# ndata_filt = ndata_sel[ndata_sel['OverallTILGrowth'].notna()]\n",
    "\n",
    "\n",
    "ndata_filt = ndata_sel\n",
    "print(ndata_filt.shape)"
   ]
  },
  {
   "cell_type": "markdown",
   "id": "9dd21d6f-4e36-40ee-8947-18db218c0cae",
   "metadata": {},
   "source": [
    "## creating the External dataset"
   ]
  },
  {
   "cell_type": "code",
   "execution_count": 7,
   "id": "1a3caa04-f6fb-453c-b392-adf8af1ed332",
   "metadata": {},
   "outputs": [],
   "source": [
    "ndata_filt = ndata_filt.replace(to_replace='Yes TIL',value='1')\n",
    "ndata_filt = ndata_filt.replace(to_replace='No TIL',value='-1')\n",
    "\n",
    "# convert column \"OverallTILGrowth\" of Ndata to numerics\n",
    "ndata_filt[\"OverallTILGrowth\"] = pd.to_numeric(ndata_filt[\"OverallTILGrowth\"])\n",
    "\n",
    "X_16F = ndata_filt.iloc[:,:-1]\n",
    "y_16F = ndata_filt.iloc[:, -1] #.values\n",
    "\n",
    "XX, X_ExtVal, yy, y_ExtVal = train_test_split(X_16F, y_16F, test_size = 0.33, \\\n",
    "                                                        random_state=1234,stratify=y_16F)"
   ]
  },
  {
   "cell_type": "code",
   "execution_count": 8,
   "id": "b18056dc-f6f4-4275-a4f9-6f8a7f5ee41e",
   "metadata": {},
   "outputs": [
    {
     "name": "stdout",
     "output_type": "stream",
     "text": [
      "34     1\n",
      "22    -1\n",
      "88     1\n",
      "101    1\n",
      "90     1\n",
      "92     1\n",
      "1      1\n",
      "7      1\n",
      "3      1\n",
      "14    -1\n",
      "19     1\n",
      "13     1\n",
      "98     1\n",
      "82     1\n",
      "11    -1\n",
      "27     1\n",
      "20    -1\n",
      "51     1\n",
      "53     1\n",
      "26     1\n",
      "Name: OverallTILGrowth, dtype: int64\n",
      "['B035', 'B023', 'B089', 'B102', 'B091', 'B093', 'B002', 'B008', 'B004', 'B015', 'B020', 'B014', 'B099', 'B083', 'B012', 'B028', 'B021', 'B052', 'B054', 'B027']\n"
     ]
    }
   ],
   "source": [
    "print(y_ExtVal)\n",
    "print(X_ExtVal.iloc[:,0].tolist())"
   ]
  },
  {
   "cell_type": "code",
   "execution_count": 9,
   "id": "8ba348d2-b8b8-4088-87d3-c9d3af88065d",
   "metadata": {},
   "outputs": [
    {
     "data": {
      "text/html": [
       "<div>\n",
       "<style scoped>\n",
       "    .dataframe tbody tr th:only-of-type {\n",
       "        vertical-align: middle;\n",
       "    }\n",
       "\n",
       "    .dataframe tbody tr th {\n",
       "        vertical-align: top;\n",
       "    }\n",
       "\n",
       "    .dataframe thead th {\n",
       "        text-align: right;\n",
       "    }\n",
       "</style>\n",
       "<table border=\"1\" class=\"dataframe\">\n",
       "  <thead>\n",
       "    <tr style=\"text-align: right;\">\n",
       "      <th></th>\n",
       "      <th>ID</th>\n",
       "      <th>Surgeon</th>\n",
       "      <th>Age_at_Surgery</th>\n",
       "      <th>Race</th>\n",
       "      <th>Surgery</th>\n",
       "      <th>Smoker</th>\n",
       "      <th>BMI</th>\n",
       "      <th>NAC</th>\n",
       "      <th>cT</th>\n",
       "      <th>pT</th>\n",
       "      <th>cT_or_pT</th>\n",
       "      <th>pN</th>\n",
       "      <th>Bx_Histology</th>\n",
       "      <th>Histology</th>\n",
       "      <th>Sample_weight_g_tumor</th>\n",
       "      <th>Tumor_digest_count_primary_tumor</th>\n",
       "      <th>Number_of_fragments_plated_tumor</th>\n",
       "    </tr>\n",
       "  </thead>\n",
       "  <tbody>\n",
       "    <tr>\n",
       "      <th>34</th>\n",
       "      <td>B035</td>\n",
       "      <td>4.0</td>\n",
       "      <td>64.0</td>\n",
       "      <td>1.0</td>\n",
       "      <td>1.0</td>\n",
       "      <td>2.0</td>\n",
       "      <td>20.36</td>\n",
       "      <td>0.0</td>\n",
       "      <td>7.0</td>\n",
       "      <td>11.0</td>\n",
       "      <td>7.0</td>\n",
       "      <td>3.0</td>\n",
       "      <td>1.0</td>\n",
       "      <td>1.0</td>\n",
       "      <td>1.38</td>\n",
       "      <td>4250000.0</td>\n",
       "      <td>24.0</td>\n",
       "    </tr>\n",
       "    <tr>\n",
       "      <th>22</th>\n",
       "      <td>B023</td>\n",
       "      <td>4.0</td>\n",
       "      <td>62.0</td>\n",
       "      <td>1.0</td>\n",
       "      <td>1.0</td>\n",
       "      <td>1.0</td>\n",
       "      <td>24.91</td>\n",
       "      <td>1.0</td>\n",
       "      <td>4.0</td>\n",
       "      <td>11.0</td>\n",
       "      <td>4.0</td>\n",
       "      <td>1.0</td>\n",
       "      <td>1.0</td>\n",
       "      <td>10.0</td>\n",
       "      <td>0.18</td>\n",
       "      <td>1170000.0</td>\n",
       "      <td>6.0</td>\n",
       "    </tr>\n",
       "    <tr>\n",
       "      <th>88</th>\n",
       "      <td>B089</td>\n",
       "      <td>4.0</td>\n",
       "      <td>60.0</td>\n",
       "      <td>1.0</td>\n",
       "      <td>1.0</td>\n",
       "      <td>1.0</td>\n",
       "      <td>26.37</td>\n",
       "      <td>1.0</td>\n",
       "      <td>10.0</td>\n",
       "      <td>9.0</td>\n",
       "      <td>10.0</td>\n",
       "      <td>0.0</td>\n",
       "      <td>4.0</td>\n",
       "      <td>4.0</td>\n",
       "      <td>1.12</td>\n",
       "      <td>1400000.0</td>\n",
       "      <td>24.0</td>\n",
       "    </tr>\n",
       "    <tr>\n",
       "      <th>101</th>\n",
       "      <td>B102</td>\n",
       "      <td>4.0</td>\n",
       "      <td>73.0</td>\n",
       "      <td>1.0</td>\n",
       "      <td>1.0</td>\n",
       "      <td>3.0</td>\n",
       "      <td>22.97</td>\n",
       "      <td>1.0</td>\n",
       "      <td>4.0</td>\n",
       "      <td>9.0</td>\n",
       "      <td>9.0</td>\n",
       "      <td>0.0</td>\n",
       "      <td>1.0</td>\n",
       "      <td>1.0</td>\n",
       "      <td>0.61</td>\n",
       "      <td>1650000.0</td>\n",
       "      <td>24.0</td>\n",
       "    </tr>\n",
       "    <tr>\n",
       "      <th>90</th>\n",
       "      <td>B091</td>\n",
       "      <td>1.0</td>\n",
       "      <td>76.0</td>\n",
       "      <td>1.0</td>\n",
       "      <td>1.0</td>\n",
       "      <td>3.0</td>\n",
       "      <td>26.57</td>\n",
       "      <td>0.0</td>\n",
       "      <td>6.0</td>\n",
       "      <td>8.0</td>\n",
       "      <td>8.0</td>\n",
       "      <td>2.0</td>\n",
       "      <td>11.0</td>\n",
       "      <td>7.0</td>\n",
       "      <td>0.49</td>\n",
       "      <td>1120000.0</td>\n",
       "      <td>18.0</td>\n",
       "    </tr>\n",
       "  </tbody>\n",
       "</table>\n",
       "</div>"
      ],
      "text/plain": [
       "       ID  Surgeon  Age_at_Surgery  Race  Surgery  Smoker    BMI  NAC    cT  \\\n",
       "34   B035      4.0            64.0   1.0      1.0     2.0  20.36  0.0   7.0   \n",
       "22   B023      4.0            62.0   1.0      1.0     1.0  24.91  1.0   4.0   \n",
       "88   B089      4.0            60.0   1.0      1.0     1.0  26.37  1.0  10.0   \n",
       "101  B102      4.0            73.0   1.0      1.0     3.0  22.97  1.0   4.0   \n",
       "90   B091      1.0            76.0   1.0      1.0     3.0  26.57  0.0   6.0   \n",
       "\n",
       "       pT  cT_or_pT   pN  Bx_Histology  Histology  Sample_weight_g_tumor  \\\n",
       "34   11.0       7.0  3.0           1.0        1.0                   1.38   \n",
       "22   11.0       4.0  1.0           1.0       10.0                   0.18   \n",
       "88    9.0      10.0  0.0           4.0        4.0                   1.12   \n",
       "101   9.0       9.0  0.0           1.0        1.0                   0.61   \n",
       "90    8.0       8.0  2.0          11.0        7.0                   0.49   \n",
       "\n",
       "     Tumor_digest_count_primary_tumor  Number_of_fragments_plated_tumor  \n",
       "34                          4250000.0                              24.0  \n",
       "22                          1170000.0                               6.0  \n",
       "88                          1400000.0                              24.0  \n",
       "101                         1650000.0                              24.0  \n",
       "90                          1120000.0                              18.0  "
      ]
     },
     "execution_count": 9,
     "metadata": {},
     "output_type": "execute_result"
    }
   ],
   "source": [
    "# \n",
    "\n",
    "n_X_ExtVal = X_ExtVal\n",
    "\n",
    "# print(n_X_ExtVal)\n",
    "n_X_ExtVal.head()"
   ]
  },
  {
   "cell_type": "markdown",
   "id": "ad74c28d-61b9-4fe6-804e-9d5e005f83af",
   "metadata": {},
   "source": [
    "## Training and Testing dataset (7 robust predictive features) "
   ]
  },
  {
   "cell_type": "code",
   "execution_count": 10,
   "id": "d42003dc-ad2b-4c81-b3ea-9b26a7307bcf",
   "metadata": {},
   "outputs": [],
   "source": [
    "# (B001 - B131) \n",
    "\n",
    "pd.set_option('display.max_columns', None)\n",
    "pd.set_option('display.max_row', None)\n",
    "\n",
    "# load data\n",
    "data = pd.read_excel('data/BladderCancer_132P_TIL_prd1.xlsx')\n",
    "data = data.loc[0:130]\n",
    "\n",
    "Ndata = data[['ID','Surgeon','Age_at_Surgery','Race','Surgery','Smoker','BMI',\\\n",
    "              'NAC','cT','pT','cT_or_pT','pN','Bx_Histology','Histology',\\\n",
    "              'Sample_weight_g_tumor','Tumor_digest_count_primary_tumor','Number_of_fragments_plated_tumor',\\\n",
    "              'Overall_TIL_growth']].copy()\n",
    "\n",
    "Ndata = Ndata.replace(to_replace=\"Yes\",value=\"Yes TIL\")\n",
    "Ndata = Ndata.replace(to_replace=\"No\",value=\"No TIL\")\n",
    "\n",
    "Ndata = Ndata.replace(r'^\\s*$', np.nan, regex=True) # Replace Blank values with DataFrame.replace() methods.\n",
    "\n",
    "Extracted_col0 = Ndata.iloc[:,0:1]  # \"ID\"\n",
    "Extracted_col1 = Ndata['Surgeon']\n",
    "Extracted_col2 = Ndata['Age_at_Surgery']\n",
    "Extracted_col3 = Ndata['BMI']\n",
    "Extracted_col4 = Ndata['cT_or_pT']\n",
    "# Extracted_col5 = Ndata['Histology'] # may remove\n",
    "Extracted_col6 = Ndata['Sample_weight_g_tumor']\n",
    "Extracted_col7 = Ndata['Tumor_digest_count_primary_tumor']\n",
    "Extracted_col8 = Ndata['Number_of_fragments_plated_tumor']\n",
    "Extracted_col9 = Ndata['Overall_TIL_growth']\n",
    "\n",
    "ndata_sel = Extracted_col0\n",
    "ndata_sel = ndata_sel.join(Extracted_col1)\n",
    "ndata_sel = ndata_sel.join(Extracted_col2)\n",
    "ndata_sel = ndata_sel.join(Extracted_col3)\n",
    "ndata_sel = ndata_sel.join(Extracted_col4)\n",
    "# ndata_sel = ndata_sel.join(Extracted_col5) # may remove\n",
    "ndata_sel = ndata_sel.join(Extracted_col6)\n",
    "ndata_sel = ndata_sel.join(Extracted_col7)\n",
    "ndata_sel = ndata_sel.join(Extracted_col8)\n",
    "ndata_sel = ndata_sel.join(Extracted_col9)\n",
    "\n",
    "ndata_sel = ndata_sel.rename(columns={'Overall_TIL_growth': 'OverallTILGrowth'})\n",
    "\n",
    "Cols = ['Surgeon','Age at Surgery','BMI',\\\n",
    "        'cT or pT',\\\n",
    "        'Sample weight (g) tumor','Tumor digest count (primary tumor)','Number of fragments plated (tumor)',\\\n",
    "        'OverallTILGrowth']\n",
    "\n",
    "feats = ['Surgeon','Age at Surgery','Race','Surgery','Smoker','BMI',\\\n",
    "        'NAC','cT','pT','cT or pT','pN','Bx Histology','Histology',\\\n",
    "        'Sample weight (g) tumor','Tumor digest count (primary tumor)','Number of fragments plated (tumor)']\n",
    "\n",
    "feat_labels = feats"
   ]
  },
  {
   "cell_type": "code",
   "execution_count": 11,
   "id": "b7dace6c-f9a5-4be2-96ab-30caaea35cab",
   "metadata": {},
   "outputs": [
    {
     "name": "stdout",
     "output_type": "stream",
     "text": [
      "(102, 9)\n"
     ]
    }
   ],
   "source": [
    "# Filter all rows for which has NaN (7 Robust & Predictive Features)\n",
    "\n",
    "ndata_sel.dropna(inplace=True) # drop rows with Nan, no entries\n",
    "# ndata_filt = ndata_sel[ndata_sel['OverallTILGrowth'].notna()]\n",
    "\n",
    "\n",
    "ndata_filt = ndata_sel\n",
    "print(ndata_filt.shape)"
   ]
  },
  {
   "cell_type": "code",
   "execution_count": 13,
   "id": "8a084fb3-aebc-4eee-8993-f40426deb9c7",
   "metadata": {},
   "outputs": [
    {
     "name": "stdout",
     "output_type": "stream",
     "text": [
      "['B002', 'B003', 'B004', 'B008', 'B013', 'B014', 'B017', 'B018', 'B019', 'B020', 'B024', 'B026', 'B027', 'B028', 'B029', 'B030', 'B032', 'B034', 'B035', 'B036', 'B037', 'B038', 'B039', 'B040', 'B041', 'B042', 'B046', 'B047', 'B050', 'B052', 'B053', 'B054', 'B056', 'B057', 'B062', 'B064', 'B067', 'B068', 'B070', 'B080', 'B083', 'B084', 'B086', 'B087', 'B088', 'B089', 'B090', 'B091', 'B093', 'B095', 'B097', 'B099', 'B100', 'B101', 'B102', 'B107', 'B112', 'B113', 'B115', 'B116', 'B120', 'B122', 'B123', 'B124', 'B125', 'B126', 'B127', 'B131']\n",
      "68\n",
      " \n",
      "['B001', 'B009', 'B011', 'B012', 'B015', 'B021', 'B023', 'B044', 'B049', 'B059', 'B063', 'B065', 'B066', 'B074', 'B075', 'B078', 'B079', 'B081', 'B082', 'B092', 'B094', 'B096', 'B098', 'B104', 'B105', 'B106', 'B108', 'B109', 'B110', 'B114', 'B117', 'B118', 'B121', 'B128']\n"
     ]
    },
    {
     "data": {
      "text/plain": [
       "34"
      ]
     },
     "execution_count": 13,
     "metadata": {},
     "output_type": "execute_result"
    }
   ],
   "source": [
    "# (7 Robust & Predictive Features)\n",
    "\n",
    "NoTIL_pred2_idx0 = []\n",
    "TIL_pred2_idx0 = []\n",
    "\n",
    "for i in range(ndata_filt.shape[0]):\n",
    "    if ndata_filt.iloc[i,-1]=='Yes TIL':\n",
    "        TIL_pred2_idx0.append(ndata_filt.iloc[i,0])\n",
    "        \n",
    "for i in range(ndata_filt.shape[0]):\n",
    "    if ndata_filt.iloc[i,-1]=='No TIL':\n",
    "        NoTIL_pred2_idx0.append(ndata_filt.iloc[i,0])\n",
    "        \n",
    "print(TIL_pred2_idx0)\n",
    "print(len(TIL_pred2_idx0))\n",
    "print(' ')\n",
    "\n",
    "print(NoTIL_pred2_idx0)\n",
    "len(NoTIL_pred2_idx0)"
   ]
  },
  {
   "cell_type": "code",
   "execution_count": 14,
   "id": "10cb18b3-dc97-40ad-95b3-0d012122d6dd",
   "metadata": {},
   "outputs": [
    {
     "data": {
      "text/html": [
       "<div>\n",
       "<style scoped>\n",
       "    .dataframe tbody tr th:only-of-type {\n",
       "        vertical-align: middle;\n",
       "    }\n",
       "\n",
       "    .dataframe tbody tr th {\n",
       "        vertical-align: top;\n",
       "    }\n",
       "\n",
       "    .dataframe thead th {\n",
       "        text-align: right;\n",
       "    }\n",
       "</style>\n",
       "<table border=\"1\" class=\"dataframe\">\n",
       "  <thead>\n",
       "    <tr style=\"text-align: right;\">\n",
       "      <th></th>\n",
       "      <th>ID</th>\n",
       "      <th>Surgeon</th>\n",
       "      <th>Age_at_Surgery</th>\n",
       "      <th>BMI</th>\n",
       "      <th>cT_or_pT</th>\n",
       "      <th>Sample_weight_g_tumor</th>\n",
       "      <th>Tumor_digest_count_primary_tumor</th>\n",
       "      <th>Number_of_fragments_plated_tumor</th>\n",
       "      <th>OverallTILGrowth</th>\n",
       "    </tr>\n",
       "  </thead>\n",
       "  <tbody>\n",
       "    <tr>\n",
       "      <th>0</th>\n",
       "      <td>B001</td>\n",
       "      <td>4.0</td>\n",
       "      <td>68.0</td>\n",
       "      <td>21.05</td>\n",
       "      <td>4.0</td>\n",
       "      <td>1.66</td>\n",
       "      <td>60000000.0</td>\n",
       "      <td>24.0</td>\n",
       "      <td>-1</td>\n",
       "    </tr>\n",
       "    <tr>\n",
       "      <th>1</th>\n",
       "      <td>B002</td>\n",
       "      <td>4.0</td>\n",
       "      <td>57.0</td>\n",
       "      <td>33.76</td>\n",
       "      <td>4.0</td>\n",
       "      <td>0.46</td>\n",
       "      <td>5000000.0</td>\n",
       "      <td>12.0</td>\n",
       "      <td>1</td>\n",
       "    </tr>\n",
       "    <tr>\n",
       "      <th>2</th>\n",
       "      <td>B003</td>\n",
       "      <td>1.0</td>\n",
       "      <td>61.0</td>\n",
       "      <td>26.28</td>\n",
       "      <td>7.0</td>\n",
       "      <td>1.17</td>\n",
       "      <td>3500000.0</td>\n",
       "      <td>12.0</td>\n",
       "      <td>1</td>\n",
       "    </tr>\n",
       "    <tr>\n",
       "      <th>3</th>\n",
       "      <td>B004</td>\n",
       "      <td>1.0</td>\n",
       "      <td>91.0</td>\n",
       "      <td>19.22</td>\n",
       "      <td>4.0</td>\n",
       "      <td>0.71</td>\n",
       "      <td>1300000.0</td>\n",
       "      <td>12.0</td>\n",
       "      <td>1</td>\n",
       "    </tr>\n",
       "    <tr>\n",
       "      <th>7</th>\n",
       "      <td>B008</td>\n",
       "      <td>2.0</td>\n",
       "      <td>79.0</td>\n",
       "      <td>26.71</td>\n",
       "      <td>4.0</td>\n",
       "      <td>0.04</td>\n",
       "      <td>300000.0</td>\n",
       "      <td>5.0</td>\n",
       "      <td>1</td>\n",
       "    </tr>\n",
       "  </tbody>\n",
       "</table>\n",
       "</div>"
      ],
      "text/plain": [
       "     ID  Surgeon  Age_at_Surgery    BMI  cT_or_pT  Sample_weight_g_tumor  \\\n",
       "0  B001      4.0            68.0  21.05       4.0                   1.66   \n",
       "1  B002      4.0            57.0  33.76       4.0                   0.46   \n",
       "2  B003      1.0            61.0  26.28       7.0                   1.17   \n",
       "3  B004      1.0            91.0  19.22       4.0                   0.71   \n",
       "7  B008      2.0            79.0  26.71       4.0                   0.04   \n",
       "\n",
       "   Tumor_digest_count_primary_tumor  Number_of_fragments_plated_tumor  \\\n",
       "0                        60000000.0                              24.0   \n",
       "1                         5000000.0                              12.0   \n",
       "2                         3500000.0                              12.0   \n",
       "3                         1300000.0                              12.0   \n",
       "7                          300000.0                               5.0   \n",
       "\n",
       "   OverallTILGrowth  \n",
       "0                -1  \n",
       "1                 1  \n",
       "2                 1  \n",
       "3                 1  \n",
       "7                 1  "
      ]
     },
     "execution_count": 14,
     "metadata": {},
     "output_type": "execute_result"
    }
   ],
   "source": [
    "ndata_filt = ndata_filt.replace(to_replace='Yes TIL',value='1')\n",
    "ndata_filt = ndata_filt.replace(to_replace='No TIL',value='-1')\n",
    "\n",
    "# convert column \"OverallTILGrowth\" of Ndata to numerics\n",
    "ndata_filt[\"OverallTILGrowth\"] = pd.to_numeric(ndata_filt[\"OverallTILGrowth\"])\n",
    "\n",
    "ndata_filt.head()"
   ]
  },
  {
   "cell_type": "code",
   "execution_count": 15,
   "id": "7a0f2747-0aa8-49d1-b8dd-d8b01fffe203",
   "metadata": {},
   "outputs": [
    {
     "name": "stdout",
     "output_type": "stream",
     "text": [
      "(102, 9)\n"
     ]
    }
   ],
   "source": [
    "print(ndata_filt.shape)"
   ]
  },
  {
   "cell_type": "markdown",
   "id": "4132f6a3-5b98-48fa-bb1a-a59245579abf",
   "metadata": {},
   "source": [
    "## remove the Ext validation data from the dataset"
   ]
  },
  {
   "cell_type": "code",
   "execution_count": 16,
   "id": "93c23fd5-8bbb-44bd-9eb2-65468605d498",
   "metadata": {},
   "outputs": [],
   "source": [
    "def remove_ExtVal_from_df(df1,df2):\n",
    "    values_to_remove = list(df1['ID'].values)\n",
    "    n_set = len(values_to_remove)\n",
    "    \n",
    "    for i in range(n_set):\n",
    "        tmp = df2[df2['ID'] == values_to_remove[i]].index\n",
    "        df2.drop(tmp,inplace=True)\n",
    "\n",
    "    return df2"
   ]
  },
  {
   "cell_type": "code",
   "execution_count": 17,
   "id": "76ab0622-ca66-4744-ac3b-054bf51b1ba5",
   "metadata": {},
   "outputs": [
    {
     "name": "stdout",
     "output_type": "stream",
     "text": [
      "(82, 9)\n"
     ]
    }
   ],
   "source": [
    "# \n",
    "\n",
    "Xy_filt = remove_ExtVal_from_df(n_X_ExtVal,ndata_filt)\n",
    "\n",
    "print(Xy_filt.shape)"
   ]
  },
  {
   "cell_type": "code",
   "execution_count": 18,
   "id": "a52ea6f4-a46f-485a-9f48-f3ae0fdec1de",
   "metadata": {},
   "outputs": [
    {
     "name": "stdout",
     "output_type": "stream",
     "text": [
      "['B003', 'B013', 'B017', 'B018', 'B019', 'B024', 'B026', 'B029', 'B030', 'B032', 'B034', 'B036', 'B037', 'B038', 'B039', 'B040', 'B041', 'B042', 'B046', 'B047', 'B050', 'B053', 'B056', 'B057', 'B062', 'B064', 'B067', 'B068', 'B070', 'B080', 'B084', 'B086', 'B087', 'B088', 'B090', 'B095', 'B097', 'B100', 'B101', 'B107', 'B112', 'B113', 'B115', 'B116', 'B120', 'B122', 'B123', 'B124', 'B125', 'B126', 'B127', 'B131']\n",
      "52\n",
      " \n",
      "['B001', 'B009', 'B011', 'B044', 'B049', 'B059', 'B063', 'B065', 'B066', 'B074', 'B075', 'B078', 'B079', 'B081', 'B082', 'B092', 'B094', 'B096', 'B098', 'B104', 'B105', 'B106', 'B108', 'B109', 'B110', 'B114', 'B117', 'B118', 'B121', 'B128']\n"
     ]
    },
    {
     "data": {
      "text/plain": [
       "30"
      ]
     },
     "execution_count": 18,
     "metadata": {},
     "output_type": "execute_result"
    }
   ],
   "source": [
    "# (dataset minus Ext validation data, 7 Robust & Predictive Features)\n",
    "\n",
    "NoTIL_pred3_idx0 = []\n",
    "TIL_pred3_idx0 = []\n",
    "\n",
    "for i in range(Xy_filt.shape[0]):\n",
    "    if Xy_filt.iloc[i,-1]==1:\n",
    "        TIL_pred3_idx0.append(Xy_filt.iloc[i,0])\n",
    "        \n",
    "for i in range(Xy_filt.shape[0]):\n",
    "    if Xy_filt.iloc[i,-1]==-1:\n",
    "        NoTIL_pred3_idx0.append(Xy_filt.iloc[i,0])\n",
    "        \n",
    "print(TIL_pred3_idx0)\n",
    "print(len(TIL_pred3_idx0))\n",
    "print(' ')\n",
    "\n",
    "print(NoTIL_pred3_idx0)\n",
    "len(NoTIL_pred3_idx0)"
   ]
  },
  {
   "cell_type": "code",
   "execution_count": 19,
   "id": "a711a840-66fc-4ffa-b39d-899e4577cfeb",
   "metadata": {},
   "outputs": [
    {
     "data": {
      "text/html": [
       "<div>\n",
       "<style scoped>\n",
       "    .dataframe tbody tr th:only-of-type {\n",
       "        vertical-align: middle;\n",
       "    }\n",
       "\n",
       "    .dataframe tbody tr th {\n",
       "        vertical-align: top;\n",
       "    }\n",
       "\n",
       "    .dataframe thead th {\n",
       "        text-align: right;\n",
       "    }\n",
       "</style>\n",
       "<table border=\"1\" class=\"dataframe\">\n",
       "  <thead>\n",
       "    <tr style=\"text-align: right;\">\n",
       "      <th></th>\n",
       "      <th>Surgeon</th>\n",
       "      <th>Age_at_Surgery</th>\n",
       "      <th>BMI</th>\n",
       "      <th>cT_or_pT</th>\n",
       "      <th>Sample_weight_g_tumor</th>\n",
       "      <th>Tumor_digest_count_primary_tumor</th>\n",
       "      <th>Number_of_fragments_plated_tumor</th>\n",
       "    </tr>\n",
       "  </thead>\n",
       "  <tbody>\n",
       "    <tr>\n",
       "      <th>0</th>\n",
       "      <td>4.0</td>\n",
       "      <td>68.0</td>\n",
       "      <td>21.05</td>\n",
       "      <td>4.0</td>\n",
       "      <td>1.66</td>\n",
       "      <td>60000000.0</td>\n",
       "      <td>24.0</td>\n",
       "    </tr>\n",
       "    <tr>\n",
       "      <th>2</th>\n",
       "      <td>1.0</td>\n",
       "      <td>61.0</td>\n",
       "      <td>26.28</td>\n",
       "      <td>7.0</td>\n",
       "      <td>1.17</td>\n",
       "      <td>3500000.0</td>\n",
       "      <td>12.0</td>\n",
       "    </tr>\n",
       "    <tr>\n",
       "      <th>8</th>\n",
       "      <td>1.0</td>\n",
       "      <td>71.0</td>\n",
       "      <td>20.19</td>\n",
       "      <td>4.0</td>\n",
       "      <td>0.00</td>\n",
       "      <td>210000.0</td>\n",
       "      <td>12.0</td>\n",
       "    </tr>\n",
       "    <tr>\n",
       "      <th>10</th>\n",
       "      <td>4.0</td>\n",
       "      <td>73.0</td>\n",
       "      <td>33.95</td>\n",
       "      <td>4.0</td>\n",
       "      <td>0.00</td>\n",
       "      <td>2000000.0</td>\n",
       "      <td>10.0</td>\n",
       "    </tr>\n",
       "    <tr>\n",
       "      <th>12</th>\n",
       "      <td>4.0</td>\n",
       "      <td>68.0</td>\n",
       "      <td>21.32</td>\n",
       "      <td>7.0</td>\n",
       "      <td>0.34</td>\n",
       "      <td>465000.0</td>\n",
       "      <td>6.0</td>\n",
       "    </tr>\n",
       "  </tbody>\n",
       "</table>\n",
       "</div>"
      ],
      "text/plain": [
       "    Surgeon  Age_at_Surgery    BMI  cT_or_pT  Sample_weight_g_tumor  \\\n",
       "0       4.0            68.0  21.05       4.0                   1.66   \n",
       "2       1.0            61.0  26.28       7.0                   1.17   \n",
       "8       1.0            71.0  20.19       4.0                   0.00   \n",
       "10      4.0            73.0  33.95       4.0                   0.00   \n",
       "12      4.0            68.0  21.32       7.0                   0.34   \n",
       "\n",
       "    Tumor_digest_count_primary_tumor  Number_of_fragments_plated_tumor  \n",
       "0                         60000000.0                              24.0  \n",
       "2                          3500000.0                              12.0  \n",
       "8                           210000.0                              12.0  \n",
       "10                         2000000.0                              10.0  \n",
       "12                          465000.0                               6.0  "
      ]
     },
     "execution_count": 19,
     "metadata": {},
     "output_type": "execute_result"
    }
   ],
   "source": [
    "# \n",
    "\n",
    "Xy_filt = Xy_filt.drop('ID', axis=1)\n",
    "Xy_filt = Xy_filt.apply(pd.to_numeric) # convert all columns of Ndata to numerics\n",
    "\n",
    "X = Xy_filt.iloc[:,:-1]\n",
    "y = Xy_filt.iloc[:, -1] #.values\n",
    "\n",
    "X.head()"
   ]
  },
  {
   "cell_type": "code",
   "execution_count": 20,
   "id": "72ef9c4e-cab3-4b19-a5e6-dd5ec6f8cc9c",
   "metadata": {},
   "outputs": [
    {
     "name": "stdout",
     "output_type": "stream",
     "text": [
      "(82, 7)\n"
     ]
    }
   ],
   "source": [
    "print(X.shape)"
   ]
  },
  {
   "cell_type": "code",
   "execution_count": 21,
   "id": "c661f580-bec1-4efd-8550-e35b69cc678a",
   "metadata": {},
   "outputs": [
    {
     "name": "stdout",
     "output_type": "stream",
     "text": [
      "(82,)\n"
     ]
    }
   ],
   "source": [
    "print(y.shape)"
   ]
  },
  {
   "cell_type": "code",
   "execution_count": 24,
   "id": "35d118fb-e087-449e-aa9e-e9658d3e37ea",
   "metadata": {},
   "outputs": [
    {
     "data": {
      "image/png": "[encoded data removed]",
      "text/plain": [
       "<Figure size 1000x800 with 2 Axes>"
      ]
     },
     "metadata": {},
     "output_type": "display_data"
    }
   ],
   "source": [
    "plt.figure(figsize=(10, 8))\n",
    "\n",
    "# sns.heatmap(X.corr(), annot=True, fmt=\".1f\")\n",
    "sns.heatmap(X.corr(), annot=True, fmt=\".1f\", vmin=-1.0, vmax=1.0)\n",
    "# plt.title('Correlation between (7 Robust & Predictive) features')\n",
    "\n",
    "plt.tight_layout()\n",
    "savefig('./figs/corr_02')"
   ]
  },
  {
   "cell_type": "code",
   "execution_count": null,
   "id": "6f2cf22e-ce95-43b4-a23a-6dd152a6d8d8",
   "metadata": {},
   "outputs": [],
   "source": []
  }
 ],
 "metadata": {
  "kernelspec": {
   "display_name": "Python 3 (ipykernel)",
   "language": "python",
   "name": "python3"
  },
  "language_info": {
   "codemirror_mode": {
    "name": "ipython",
    "version": 3
   },
   "file_extension": ".py",
   "mimetype": "text/x-python",
   "name": "python",
   "nbconvert_exporter": "python",
   "pygments_lexer": "ipython3",
   "version": "3.8.19"
  }
 },
 "nbformat": 4,
 "nbformat_minor": 5
}
